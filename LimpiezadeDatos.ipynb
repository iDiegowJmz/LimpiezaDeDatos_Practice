{
 "cells": [
  {
   "cell_type": "markdown",
   "metadata": {},
   "source": [
    "\n",
    "# Diego Isaac Jiménes Baroja\n"
   ]
  },
  {
   "cell_type": "code",
   "execution_count": 1739,
   "metadata": {},
   "outputs": [],
   "source": [
    "# # Importamos librerias que usaremos\n",
    "\n",
    "import pandas as pd\n"
   ]
  },
  {
   "cell_type": "code",
   "execution_count": 1740,
   "metadata": {},
   "outputs": [
    {
     "name": "stderr",
     "output_type": "stream",
     "text": [
      "C:\\Users\\i_die\\AppData\\Local\\Temp\\ipykernel_3324\\330275490.py:4: DtypeWarning: Columns (18,19) have mixed types. Specify dtype option on import or set low_memory=False.\n",
      "  df_spoty = pd.read_csv(\"spotify_practica.csv\")\n"
     ]
    }
   ],
   "source": [
    "# Cargamos las bases de datos\n",
    "\n",
    "df_zip = pd.read_csv(\"zips_practica.csv\")\n",
    "df_spoty = pd.read_csv(\"spotify_practica.csv\")"
   ]
  },
  {
   "cell_type": "markdown",
   "metadata": {},
   "source": [
    "**a) Etiquetado de varibales**"
   ]
  },
  {
   "cell_type": "code",
   "execution_count": 1741,
   "metadata": {},
   "outputs": [
    {
     "data": {
      "text/plain": [
       "Index(['zip', 'lat', 'lng', 'city', 'state_id', 'state_name', 'zcta',\n",
       "       'parent_zcta', 'population', 'density', 'county_fips', 'county_name',\n",
       "       'county_weights', 'county_names_all', 'county_fips_all', 'imprecise',\n",
       "       'military', 'timezone', 'c_lng'],\n",
       "      dtype='object')"
      ]
     },
     "execution_count": 1741,
     "metadata": {},
     "output_type": "execute_result"
    }
   ],
   "source": [
    "# Observamos de que tratan las columnas para poder clasificarlas\n",
    "df_zip.columns"
   ]
  },
  {
   "cell_type": "code",
   "execution_count": 1742,
   "metadata": {},
   "outputs": [],
   "source": [
    "# Empezamos el clasificado y el renombramiento de las columnas\n",
    "\n",
    "continuas = ['lat', 'lng', 'population', 'density', 'county_weights', 'c_lng']\n",
    "discretas = ['zip', 'state_id', 'zcta', 'parent_zcta', 'county_fips', 'county_fips_all', 'military']\n",
    "texto = ['city', 'state_name', 'county_name', 'county_names_all', 'imprecise', 'timezone']\n",
    "\n",
    "c_feats_new = [\"c_\" + x for x in continuas]\n",
    "d_feats_new = [\"d_\" + x for x in discretas]\n",
    "t_feats_new = [\"t_\" + x for x in texto]\n",
    "\n",
    "# Renombramos las columnas\n",
    "\n",
    "df_zip.rename(columns = dict(zip(continuas, c_feats_new)), inplace = True)\n",
    "df_zip.rename(columns = dict(zip(discretas, d_feats_new)), inplace = True)\n",
    "df_zip.rename(columns = dict(zip(texto, t_feats_new)), inplace = True)"
   ]
  },
  {
   "cell_type": "code",
   "execution_count": 1743,
   "metadata": {},
   "outputs": [
    {
     "data": {
      "text/plain": [
       "Index(['d_zip', 'c_lat', 'c_lng', 't_city', 'd_state_id', 't_state_name',\n",
       "       'd_zcta', 'd_parent_zcta', 'c_population', 'c_density', 'd_county_fips',\n",
       "       't_county_name', 'c_county_weights', 't_county_names_all',\n",
       "       'd_county_fips_all', 't_imprecise', 'd_military', 't_timezone',\n",
       "       'c_c_lng'],\n",
       "      dtype='object')"
      ]
     },
     "execution_count": 1743,
     "metadata": {},
     "output_type": "execute_result"
    }
   ],
   "source": [
    "# Vemos como se ven ahora\n",
    "\n",
    "df_zip.columns"
   ]
  },
  {
   "cell_type": "markdown",
   "metadata": {},
   "source": [
    "**Analogo para df_spoty**"
   ]
  },
  {
   "cell_type": "code",
   "execution_count": 1744,
   "metadata": {},
   "outputs": [
    {
     "data": {
      "text/plain": [
       "Index(['acousticness', 'artists', 'danceability', 'duration_ms', 'energy',\n",
       "       'explicit', 'id', 'instrumentalness', 'key', 'liveness', 'loudness',\n",
       "       'mode', 'name', 'popularity', 'release_date', 'speechiness', 'tempo',\n",
       "       'valence', 'zip Code', 'genero'],\n",
       "      dtype='object')"
      ]
     },
     "execution_count": 1744,
     "metadata": {},
     "output_type": "execute_result"
    }
   ],
   "source": [
    "df_spoty.columns"
   ]
  },
  {
   "cell_type": "code",
   "execution_count": 1745,
   "metadata": {},
   "outputs": [],
   "source": [
    "continuas = ['acousticness', 'danceability', 'duration_ms', 'energy', 'instrumentalness', 'liveness', 'loudness', 'speechiness', 'tempo', 'valence']\n",
    "discretas = ['explicit', 'key', 'mode', 'popularity', 'zip Code']\n",
    "texto = ['artists', 'id', 'name', 'genero']\n",
    "fecha = ['release_date']\n",
    "\n",
    "c_feats_new = [\"c_\" + x for x in continuas]\n",
    "d_feats_new = [\"d_\" + x for x in discretas]\n",
    "t_feats_new = [\"t_\" + x for x in texto]\n",
    "f_feats_new = [\"f_\" + x for x in fecha]\n",
    "\n",
    "# Renombramos las columnas\n",
    "\n",
    "df_spoty.rename(columns = dict(zip(continuas, c_feats_new)), inplace = True)\n",
    "df_spoty.rename(columns = dict(zip(discretas, d_feats_new)), inplace = True)\n",
    "df_spoty.rename(columns = dict(zip(texto, t_feats_new)), inplace = True)\n",
    "df_spoty.rename(columns = dict(zip(fecha, f_feats_new)), inplace = True)"
   ]
  },
  {
   "cell_type": "code",
   "execution_count": 1746,
   "metadata": {},
   "outputs": [
    {
     "data": {
      "text/plain": [
       "Index(['c_acousticness', 't_artists', 'c_danceability', 'c_duration_ms',\n",
       "       'c_energy', 'd_explicit', 't_id', 'c_instrumentalness', 'd_key',\n",
       "       'c_liveness', 'c_loudness', 'd_mode', 't_name', 'd_popularity',\n",
       "       'f_release_date', 'c_speechiness', 'c_tempo', 'c_valence', 'd_zip Code',\n",
       "       't_genero'],\n",
       "      dtype='object')"
      ]
     },
     "execution_count": 1746,
     "metadata": {},
     "output_type": "execute_result"
    }
   ],
   "source": [
    "df_spoty.columns"
   ]
  },
  {
   "cell_type": "markdown",
   "metadata": {},
   "source": [
    "**b) Eliminar valores duplicados**"
   ]
  },
  {
   "cell_type": "code",
   "execution_count": 1747,
   "metadata": {},
   "outputs": [
    {
     "data": {
      "text/plain": [
       "0"
      ]
     },
     "execution_count": 1747,
     "metadata": {},
     "output_type": "execute_result"
    }
   ],
   "source": [
    "# Verificamos si hay valores duplicados para ZIP\n",
    "df_zip.duplicated().sum()"
   ]
  },
  {
   "cell_type": "code",
   "execution_count": 1748,
   "metadata": {},
   "outputs": [
    {
     "data": {
      "text/plain": [
       "364"
      ]
     },
     "execution_count": 1748,
     "metadata": {},
     "output_type": "execute_result"
    }
   ],
   "source": [
    "# Verificamos si hay valores duplicados para Spoty\n",
    "df_spoty.duplicated().sum()"
   ]
  },
  {
   "cell_type": "code",
   "execution_count": 1749,
   "metadata": {},
   "outputs": [
    {
     "data": {
      "text/plain": [
       "0"
      ]
     },
     "execution_count": 1749,
     "metadata": {},
     "output_type": "execute_result"
    }
   ],
   "source": [
    "# Eliminamos duplicados para el dataframe de Spoty\n",
    "\n",
    "df_spoty.drop_duplicates(inplace = True)\n",
    "\n",
    "# Vemos si sigue habiendo valores duplicados despues de haber eliminado\n",
    "\n",
    "df_spoty.duplicated().sum()"
   ]
  },
  {
   "cell_type": "markdown",
   "metadata": {},
   "source": [
    "**c) Completitud de variables**"
   ]
  },
  {
   "cell_type": "code",
   "execution_count": 1750,
   "metadata": {},
   "outputs": [
    {
     "data": {
      "text/html": [
       "<div>\n",
       "<style scoped>\n",
       "    .dataframe tbody tr th:only-of-type {\n",
       "        vertical-align: middle;\n",
       "    }\n",
       "\n",
       "    .dataframe tbody tr th {\n",
       "        vertical-align: top;\n",
       "    }\n",
       "\n",
       "    .dataframe thead th {\n",
       "        text-align: right;\n",
       "    }\n",
       "</style>\n",
       "<table border=\"1\" class=\"dataframe\">\n",
       "  <thead>\n",
       "    <tr style=\"text-align: right;\">\n",
       "      <th></th>\n",
       "      <th>d_zip</th>\n",
       "      <th>c_lat</th>\n",
       "      <th>c_lng</th>\n",
       "      <th>t_city</th>\n",
       "      <th>d_state_id</th>\n",
       "      <th>t_state_name</th>\n",
       "      <th>d_zcta</th>\n",
       "      <th>d_parent_zcta</th>\n",
       "      <th>c_population</th>\n",
       "      <th>c_density</th>\n",
       "      <th>d_county_fips</th>\n",
       "      <th>t_county_name</th>\n",
       "      <th>c_county_weights</th>\n",
       "      <th>t_county_names_all</th>\n",
       "      <th>d_county_fips_all</th>\n",
       "      <th>t_imprecise</th>\n",
       "      <th>d_military</th>\n",
       "      <th>t_timezone</th>\n",
       "      <th>c_c_lng</th>\n",
       "    </tr>\n",
       "  </thead>\n",
       "  <tbody>\n",
       "    <tr>\n",
       "      <th>0</th>\n",
       "      <td>False</td>\n",
       "      <td>False</td>\n",
       "      <td>False</td>\n",
       "      <td>False</td>\n",
       "      <td>False</td>\n",
       "      <td>False</td>\n",
       "      <td>False</td>\n",
       "      <td>True</td>\n",
       "      <td>False</td>\n",
       "      <td>False</td>\n",
       "      <td>False</td>\n",
       "      <td>False</td>\n",
       "      <td>False</td>\n",
       "      <td>False</td>\n",
       "      <td>False</td>\n",
       "      <td>False</td>\n",
       "      <td>False</td>\n",
       "      <td>False</td>\n",
       "      <td>True</td>\n",
       "    </tr>\n",
       "    <tr>\n",
       "      <th>1</th>\n",
       "      <td>False</td>\n",
       "      <td>False</td>\n",
       "      <td>False</td>\n",
       "      <td>False</td>\n",
       "      <td>False</td>\n",
       "      <td>False</td>\n",
       "      <td>False</td>\n",
       "      <td>True</td>\n",
       "      <td>False</td>\n",
       "      <td>False</td>\n",
       "      <td>False</td>\n",
       "      <td>False</td>\n",
       "      <td>False</td>\n",
       "      <td>False</td>\n",
       "      <td>False</td>\n",
       "      <td>False</td>\n",
       "      <td>False</td>\n",
       "      <td>False</td>\n",
       "      <td>True</td>\n",
       "    </tr>\n",
       "    <tr>\n",
       "      <th>2</th>\n",
       "      <td>False</td>\n",
       "      <td>False</td>\n",
       "      <td>False</td>\n",
       "      <td>False</td>\n",
       "      <td>False</td>\n",
       "      <td>False</td>\n",
       "      <td>False</td>\n",
       "      <td>True</td>\n",
       "      <td>False</td>\n",
       "      <td>False</td>\n",
       "      <td>False</td>\n",
       "      <td>False</td>\n",
       "      <td>False</td>\n",
       "      <td>False</td>\n",
       "      <td>False</td>\n",
       "      <td>False</td>\n",
       "      <td>False</td>\n",
       "      <td>False</td>\n",
       "      <td>True</td>\n",
       "    </tr>\n",
       "    <tr>\n",
       "      <th>3</th>\n",
       "      <td>False</td>\n",
       "      <td>False</td>\n",
       "      <td>False</td>\n",
       "      <td>False</td>\n",
       "      <td>False</td>\n",
       "      <td>False</td>\n",
       "      <td>False</td>\n",
       "      <td>True</td>\n",
       "      <td>False</td>\n",
       "      <td>False</td>\n",
       "      <td>False</td>\n",
       "      <td>False</td>\n",
       "      <td>False</td>\n",
       "      <td>False</td>\n",
       "      <td>False</td>\n",
       "      <td>False</td>\n",
       "      <td>False</td>\n",
       "      <td>False</td>\n",
       "      <td>True</td>\n",
       "    </tr>\n",
       "    <tr>\n",
       "      <th>4</th>\n",
       "      <td>False</td>\n",
       "      <td>False</td>\n",
       "      <td>False</td>\n",
       "      <td>False</td>\n",
       "      <td>False</td>\n",
       "      <td>False</td>\n",
       "      <td>False</td>\n",
       "      <td>True</td>\n",
       "      <td>False</td>\n",
       "      <td>False</td>\n",
       "      <td>False</td>\n",
       "      <td>False</td>\n",
       "      <td>False</td>\n",
       "      <td>False</td>\n",
       "      <td>False</td>\n",
       "      <td>False</td>\n",
       "      <td>False</td>\n",
       "      <td>False</td>\n",
       "      <td>True</td>\n",
       "    </tr>\n",
       "    <tr>\n",
       "      <th>...</th>\n",
       "      <td>...</td>\n",
       "      <td>...</td>\n",
       "      <td>...</td>\n",
       "      <td>...</td>\n",
       "      <td>...</td>\n",
       "      <td>...</td>\n",
       "      <td>...</td>\n",
       "      <td>...</td>\n",
       "      <td>...</td>\n",
       "      <td>...</td>\n",
       "      <td>...</td>\n",
       "      <td>...</td>\n",
       "      <td>...</td>\n",
       "      <td>...</td>\n",
       "      <td>...</td>\n",
       "      <td>...</td>\n",
       "      <td>...</td>\n",
       "      <td>...</td>\n",
       "      <td>...</td>\n",
       "    </tr>\n",
       "    <tr>\n",
       "      <th>33094</th>\n",
       "      <td>False</td>\n",
       "      <td>False</td>\n",
       "      <td>False</td>\n",
       "      <td>False</td>\n",
       "      <td>False</td>\n",
       "      <td>False</td>\n",
       "      <td>False</td>\n",
       "      <td>True</td>\n",
       "      <td>False</td>\n",
       "      <td>False</td>\n",
       "      <td>False</td>\n",
       "      <td>False</td>\n",
       "      <td>False</td>\n",
       "      <td>False</td>\n",
       "      <td>False</td>\n",
       "      <td>False</td>\n",
       "      <td>False</td>\n",
       "      <td>False</td>\n",
       "      <td>True</td>\n",
       "    </tr>\n",
       "    <tr>\n",
       "      <th>33095</th>\n",
       "      <td>False</td>\n",
       "      <td>False</td>\n",
       "      <td>False</td>\n",
       "      <td>False</td>\n",
       "      <td>False</td>\n",
       "      <td>False</td>\n",
       "      <td>False</td>\n",
       "      <td>True</td>\n",
       "      <td>False</td>\n",
       "      <td>False</td>\n",
       "      <td>False</td>\n",
       "      <td>False</td>\n",
       "      <td>False</td>\n",
       "      <td>False</td>\n",
       "      <td>False</td>\n",
       "      <td>False</td>\n",
       "      <td>False</td>\n",
       "      <td>False</td>\n",
       "      <td>True</td>\n",
       "    </tr>\n",
       "    <tr>\n",
       "      <th>33096</th>\n",
       "      <td>False</td>\n",
       "      <td>False</td>\n",
       "      <td>False</td>\n",
       "      <td>False</td>\n",
       "      <td>False</td>\n",
       "      <td>False</td>\n",
       "      <td>False</td>\n",
       "      <td>True</td>\n",
       "      <td>False</td>\n",
       "      <td>False</td>\n",
       "      <td>False</td>\n",
       "      <td>False</td>\n",
       "      <td>False</td>\n",
       "      <td>False</td>\n",
       "      <td>False</td>\n",
       "      <td>False</td>\n",
       "      <td>False</td>\n",
       "      <td>False</td>\n",
       "      <td>True</td>\n",
       "    </tr>\n",
       "    <tr>\n",
       "      <th>33097</th>\n",
       "      <td>False</td>\n",
       "      <td>False</td>\n",
       "      <td>False</td>\n",
       "      <td>False</td>\n",
       "      <td>False</td>\n",
       "      <td>False</td>\n",
       "      <td>False</td>\n",
       "      <td>True</td>\n",
       "      <td>False</td>\n",
       "      <td>False</td>\n",
       "      <td>False</td>\n",
       "      <td>False</td>\n",
       "      <td>False</td>\n",
       "      <td>False</td>\n",
       "      <td>False</td>\n",
       "      <td>False</td>\n",
       "      <td>False</td>\n",
       "      <td>False</td>\n",
       "      <td>True</td>\n",
       "    </tr>\n",
       "    <tr>\n",
       "      <th>33098</th>\n",
       "      <td>False</td>\n",
       "      <td>False</td>\n",
       "      <td>False</td>\n",
       "      <td>False</td>\n",
       "      <td>False</td>\n",
       "      <td>False</td>\n",
       "      <td>False</td>\n",
       "      <td>True</td>\n",
       "      <td>False</td>\n",
       "      <td>False</td>\n",
       "      <td>False</td>\n",
       "      <td>False</td>\n",
       "      <td>False</td>\n",
       "      <td>False</td>\n",
       "      <td>False</td>\n",
       "      <td>False</td>\n",
       "      <td>False</td>\n",
       "      <td>False</td>\n",
       "      <td>True</td>\n",
       "    </tr>\n",
       "  </tbody>\n",
       "</table>\n",
       "<p>33099 rows × 19 columns</p>\n",
       "</div>"
      ],
      "text/plain": [
       "       d_zip  c_lat  c_lng  t_city  d_state_id  t_state_name  d_zcta  \\\n",
       "0      False  False  False   False       False         False   False   \n",
       "1      False  False  False   False       False         False   False   \n",
       "2      False  False  False   False       False         False   False   \n",
       "3      False  False  False   False       False         False   False   \n",
       "4      False  False  False   False       False         False   False   \n",
       "...      ...    ...    ...     ...         ...           ...     ...   \n",
       "33094  False  False  False   False       False         False   False   \n",
       "33095  False  False  False   False       False         False   False   \n",
       "33096  False  False  False   False       False         False   False   \n",
       "33097  False  False  False   False       False         False   False   \n",
       "33098  False  False  False   False       False         False   False   \n",
       "\n",
       "       d_parent_zcta  c_population  c_density  d_county_fips  t_county_name  \\\n",
       "0               True         False      False          False          False   \n",
       "1               True         False      False          False          False   \n",
       "2               True         False      False          False          False   \n",
       "3               True         False      False          False          False   \n",
       "4               True         False      False          False          False   \n",
       "...              ...           ...        ...            ...            ...   \n",
       "33094           True         False      False          False          False   \n",
       "33095           True         False      False          False          False   \n",
       "33096           True         False      False          False          False   \n",
       "33097           True         False      False          False          False   \n",
       "33098           True         False      False          False          False   \n",
       "\n",
       "       c_county_weights  t_county_names_all  d_county_fips_all  t_imprecise  \\\n",
       "0                 False               False              False        False   \n",
       "1                 False               False              False        False   \n",
       "2                 False               False              False        False   \n",
       "3                 False               False              False        False   \n",
       "4                 False               False              False        False   \n",
       "...                 ...                 ...                ...          ...   \n",
       "33094             False               False              False        False   \n",
       "33095             False               False              False        False   \n",
       "33096             False               False              False        False   \n",
       "33097             False               False              False        False   \n",
       "33098             False               False              False        False   \n",
       "\n",
       "       d_military  t_timezone  c_c_lng  \n",
       "0           False       False     True  \n",
       "1           False       False     True  \n",
       "2           False       False     True  \n",
       "3           False       False     True  \n",
       "4           False       False     True  \n",
       "...           ...         ...      ...  \n",
       "33094       False       False     True  \n",
       "33095       False       False     True  \n",
       "33096       False       False     True  \n",
       "33097       False       False     True  \n",
       "33098       False       False     True  \n",
       "\n",
       "[33099 rows x 19 columns]"
      ]
     },
     "execution_count": 1750,
     "metadata": {},
     "output_type": "execute_result"
    }
   ],
   "source": [
    "# Veamos los valores que no esten completos\n",
    "\n",
    "df_zip.isnull()"
   ]
  },
  {
   "cell_type": "code",
   "execution_count": 1751,
   "metadata": {},
   "outputs": [],
   "source": [
    "# Mostramos la cantidad de datos faltantes para cada columna\n",
    "completitud = pd.DataFrame(df_zip.isnull().sum())"
   ]
  },
  {
   "cell_type": "code",
   "execution_count": 1752,
   "metadata": {},
   "outputs": [
    {
     "data": {
      "text/html": [
       "<div>\n",
       "<style scoped>\n",
       "    .dataframe tbody tr th:only-of-type {\n",
       "        vertical-align: middle;\n",
       "    }\n",
       "\n",
       "    .dataframe tbody tr th {\n",
       "        vertical-align: top;\n",
       "    }\n",
       "\n",
       "    .dataframe thead th {\n",
       "        text-align: right;\n",
       "    }\n",
       "</style>\n",
       "<table border=\"1\" class=\"dataframe\">\n",
       "  <thead>\n",
       "    <tr style=\"text-align: right;\">\n",
       "      <th></th>\n",
       "      <th>total</th>\n",
       "      <th>completitud</th>\n",
       "    </tr>\n",
       "  </thead>\n",
       "  <tbody>\n",
       "    <tr>\n",
       "      <th>d_parent_zcta</th>\n",
       "      <td>33099</td>\n",
       "      <td>0.000000</td>\n",
       "    </tr>\n",
       "    <tr>\n",
       "      <th>c_c_lng</th>\n",
       "      <td>33094</td>\n",
       "      <td>0.015106</td>\n",
       "    </tr>\n",
       "    <tr>\n",
       "      <th>d_military</th>\n",
       "      <td>0</td>\n",
       "      <td>100.000000</td>\n",
       "    </tr>\n",
       "    <tr>\n",
       "      <th>t_imprecise</th>\n",
       "      <td>0</td>\n",
       "      <td>100.000000</td>\n",
       "    </tr>\n",
       "    <tr>\n",
       "      <th>d_county_fips_all</th>\n",
       "      <td>0</td>\n",
       "      <td>100.000000</td>\n",
       "    </tr>\n",
       "    <tr>\n",
       "      <th>t_county_names_all</th>\n",
       "      <td>0</td>\n",
       "      <td>100.000000</td>\n",
       "    </tr>\n",
       "    <tr>\n",
       "      <th>c_county_weights</th>\n",
       "      <td>0</td>\n",
       "      <td>100.000000</td>\n",
       "    </tr>\n",
       "    <tr>\n",
       "      <th>t_county_name</th>\n",
       "      <td>0</td>\n",
       "      <td>100.000000</td>\n",
       "    </tr>\n",
       "    <tr>\n",
       "      <th>d_county_fips</th>\n",
       "      <td>0</td>\n",
       "      <td>100.000000</td>\n",
       "    </tr>\n",
       "    <tr>\n",
       "      <th>d_zip</th>\n",
       "      <td>0</td>\n",
       "      <td>100.000000</td>\n",
       "    </tr>\n",
       "    <tr>\n",
       "      <th>c_population</th>\n",
       "      <td>0</td>\n",
       "      <td>100.000000</td>\n",
       "    </tr>\n",
       "    <tr>\n",
       "      <th>d_zcta</th>\n",
       "      <td>0</td>\n",
       "      <td>100.000000</td>\n",
       "    </tr>\n",
       "    <tr>\n",
       "      <th>t_state_name</th>\n",
       "      <td>0</td>\n",
       "      <td>100.000000</td>\n",
       "    </tr>\n",
       "    <tr>\n",
       "      <th>d_state_id</th>\n",
       "      <td>0</td>\n",
       "      <td>100.000000</td>\n",
       "    </tr>\n",
       "    <tr>\n",
       "      <th>t_city</th>\n",
       "      <td>0</td>\n",
       "      <td>100.000000</td>\n",
       "    </tr>\n",
       "    <tr>\n",
       "      <th>c_lng</th>\n",
       "      <td>0</td>\n",
       "      <td>100.000000</td>\n",
       "    </tr>\n",
       "    <tr>\n",
       "      <th>c_lat</th>\n",
       "      <td>0</td>\n",
       "      <td>100.000000</td>\n",
       "    </tr>\n",
       "    <tr>\n",
       "      <th>t_timezone</th>\n",
       "      <td>0</td>\n",
       "      <td>100.000000</td>\n",
       "    </tr>\n",
       "    <tr>\n",
       "      <th>c_density</th>\n",
       "      <td>0</td>\n",
       "      <td>100.000000</td>\n",
       "    </tr>\n",
       "  </tbody>\n",
       "</table>\n",
       "</div>"
      ],
      "text/plain": [
       "                    total  completitud\n",
       "d_parent_zcta       33099     0.000000\n",
       "c_c_lng             33094     0.015106\n",
       "d_military              0   100.000000\n",
       "t_imprecise             0   100.000000\n",
       "d_county_fips_all       0   100.000000\n",
       "t_county_names_all      0   100.000000\n",
       "c_county_weights        0   100.000000\n",
       "t_county_name           0   100.000000\n",
       "d_county_fips           0   100.000000\n",
       "d_zip                   0   100.000000\n",
       "c_population            0   100.000000\n",
       "d_zcta                  0   100.000000\n",
       "t_state_name            0   100.000000\n",
       "d_state_id              0   100.000000\n",
       "t_city                  0   100.000000\n",
       "c_lng                   0   100.000000\n",
       "c_lat                   0   100.000000\n",
       "t_timezone              0   100.000000\n",
       "c_density               0   100.000000"
      ]
     },
     "execution_count": 1752,
     "metadata": {},
     "output_type": "execute_result"
    }
   ],
   "source": [
    "# Cambiamos los nombres de la tabla\n",
    "completitud = completitud.rename(columns = {'index':'columna',0:'total'})\n",
    "# Calculamos el porcentaje de completitud que representa los datos\n",
    "completitud[\"completitud\"] =  (1 - completitud['total'] / df_zip.shape[0]) * 100 \n",
    "# Ordenamos los valores de completitud de orden ascendente\n",
    "completitud = completitud.sort_values(by = \"completitud\", ascending = True)\n",
    "# Imprimimos\n",
    "completitud"
   ]
  },
  {
   "cell_type": "markdown",
   "metadata": {},
   "source": [
    "**Analogo para el dataframe de Spotify**"
   ]
  },
  {
   "cell_type": "code",
   "execution_count": 1753,
   "metadata": {},
   "outputs": [
    {
     "data": {
      "text/html": [
       "<div>\n",
       "<style scoped>\n",
       "    .dataframe tbody tr th:only-of-type {\n",
       "        vertical-align: middle;\n",
       "    }\n",
       "\n",
       "    .dataframe tbody tr th {\n",
       "        vertical-align: top;\n",
       "    }\n",
       "\n",
       "    .dataframe thead th {\n",
       "        text-align: right;\n",
       "    }\n",
       "</style>\n",
       "<table border=\"1\" class=\"dataframe\">\n",
       "  <thead>\n",
       "    <tr style=\"text-align: right;\">\n",
       "      <th></th>\n",
       "      <th>c_acousticness</th>\n",
       "      <th>t_artists</th>\n",
       "      <th>c_danceability</th>\n",
       "      <th>c_duration_ms</th>\n",
       "      <th>c_energy</th>\n",
       "      <th>d_explicit</th>\n",
       "      <th>t_id</th>\n",
       "      <th>c_instrumentalness</th>\n",
       "      <th>d_key</th>\n",
       "      <th>c_liveness</th>\n",
       "      <th>c_loudness</th>\n",
       "      <th>d_mode</th>\n",
       "      <th>t_name</th>\n",
       "      <th>d_popularity</th>\n",
       "      <th>f_release_date</th>\n",
       "      <th>c_speechiness</th>\n",
       "      <th>c_tempo</th>\n",
       "      <th>c_valence</th>\n",
       "      <th>d_zip Code</th>\n",
       "      <th>t_genero</th>\n",
       "    </tr>\n",
       "  </thead>\n",
       "  <tbody>\n",
       "    <tr>\n",
       "      <th>0</th>\n",
       "      <td>False</td>\n",
       "      <td>False</td>\n",
       "      <td>False</td>\n",
       "      <td>False</td>\n",
       "      <td>False</td>\n",
       "      <td>True</td>\n",
       "      <td>False</td>\n",
       "      <td>False</td>\n",
       "      <td>False</td>\n",
       "      <td>False</td>\n",
       "      <td>False</td>\n",
       "      <td>False</td>\n",
       "      <td>False</td>\n",
       "      <td>False</td>\n",
       "      <td>False</td>\n",
       "      <td>False</td>\n",
       "      <td>False</td>\n",
       "      <td>False</td>\n",
       "      <td>False</td>\n",
       "      <td>True</td>\n",
       "    </tr>\n",
       "    <tr>\n",
       "      <th>1</th>\n",
       "      <td>False</td>\n",
       "      <td>False</td>\n",
       "      <td>False</td>\n",
       "      <td>False</td>\n",
       "      <td>False</td>\n",
       "      <td>True</td>\n",
       "      <td>False</td>\n",
       "      <td>False</td>\n",
       "      <td>True</td>\n",
       "      <td>False</td>\n",
       "      <td>False</td>\n",
       "      <td>False</td>\n",
       "      <td>False</td>\n",
       "      <td>False</td>\n",
       "      <td>False</td>\n",
       "      <td>False</td>\n",
       "      <td>False</td>\n",
       "      <td>False</td>\n",
       "      <td>False</td>\n",
       "      <td>True</td>\n",
       "    </tr>\n",
       "    <tr>\n",
       "      <th>2</th>\n",
       "      <td>False</td>\n",
       "      <td>False</td>\n",
       "      <td>False</td>\n",
       "      <td>False</td>\n",
       "      <td>False</td>\n",
       "      <td>False</td>\n",
       "      <td>False</td>\n",
       "      <td>False</td>\n",
       "      <td>False</td>\n",
       "      <td>False</td>\n",
       "      <td>False</td>\n",
       "      <td>False</td>\n",
       "      <td>False</td>\n",
       "      <td>False</td>\n",
       "      <td>False</td>\n",
       "      <td>False</td>\n",
       "      <td>False</td>\n",
       "      <td>False</td>\n",
       "      <td>False</td>\n",
       "      <td>True</td>\n",
       "    </tr>\n",
       "    <tr>\n",
       "      <th>3</th>\n",
       "      <td>False</td>\n",
       "      <td>False</td>\n",
       "      <td>False</td>\n",
       "      <td>False</td>\n",
       "      <td>False</td>\n",
       "      <td>True</td>\n",
       "      <td>False</td>\n",
       "      <td>False</td>\n",
       "      <td>False</td>\n",
       "      <td>False</td>\n",
       "      <td>False</td>\n",
       "      <td>False</td>\n",
       "      <td>False</td>\n",
       "      <td>False</td>\n",
       "      <td>False</td>\n",
       "      <td>False</td>\n",
       "      <td>False</td>\n",
       "      <td>False</td>\n",
       "      <td>False</td>\n",
       "      <td>True</td>\n",
       "    </tr>\n",
       "    <tr>\n",
       "      <th>4</th>\n",
       "      <td>False</td>\n",
       "      <td>False</td>\n",
       "      <td>False</td>\n",
       "      <td>False</td>\n",
       "      <td>False</td>\n",
       "      <td>True</td>\n",
       "      <td>False</td>\n",
       "      <td>False</td>\n",
       "      <td>False</td>\n",
       "      <td>False</td>\n",
       "      <td>False</td>\n",
       "      <td>False</td>\n",
       "      <td>False</td>\n",
       "      <td>False</td>\n",
       "      <td>False</td>\n",
       "      <td>False</td>\n",
       "      <td>False</td>\n",
       "      <td>False</td>\n",
       "      <td>False</td>\n",
       "      <td>True</td>\n",
       "    </tr>\n",
       "    <tr>\n",
       "      <th>...</th>\n",
       "      <td>...</td>\n",
       "      <td>...</td>\n",
       "      <td>...</td>\n",
       "      <td>...</td>\n",
       "      <td>...</td>\n",
       "      <td>...</td>\n",
       "      <td>...</td>\n",
       "      <td>...</td>\n",
       "      <td>...</td>\n",
       "      <td>...</td>\n",
       "      <td>...</td>\n",
       "      <td>...</td>\n",
       "      <td>...</td>\n",
       "      <td>...</td>\n",
       "      <td>...</td>\n",
       "      <td>...</td>\n",
       "      <td>...</td>\n",
       "      <td>...</td>\n",
       "      <td>...</td>\n",
       "      <td>...</td>\n",
       "    </tr>\n",
       "    <tr>\n",
       "      <th>170344</th>\n",
       "      <td>False</td>\n",
       "      <td>False</td>\n",
       "      <td>False</td>\n",
       "      <td>False</td>\n",
       "      <td>False</td>\n",
       "      <td>False</td>\n",
       "      <td>False</td>\n",
       "      <td>False</td>\n",
       "      <td>False</td>\n",
       "      <td>False</td>\n",
       "      <td>False</td>\n",
       "      <td>False</td>\n",
       "      <td>False</td>\n",
       "      <td>False</td>\n",
       "      <td>False</td>\n",
       "      <td>False</td>\n",
       "      <td>False</td>\n",
       "      <td>False</td>\n",
       "      <td>False</td>\n",
       "      <td>False</td>\n",
       "    </tr>\n",
       "    <tr>\n",
       "      <th>170345</th>\n",
       "      <td>False</td>\n",
       "      <td>False</td>\n",
       "      <td>False</td>\n",
       "      <td>False</td>\n",
       "      <td>False</td>\n",
       "      <td>False</td>\n",
       "      <td>False</td>\n",
       "      <td>False</td>\n",
       "      <td>False</td>\n",
       "      <td>False</td>\n",
       "      <td>False</td>\n",
       "      <td>False</td>\n",
       "      <td>False</td>\n",
       "      <td>False</td>\n",
       "      <td>False</td>\n",
       "      <td>False</td>\n",
       "      <td>False</td>\n",
       "      <td>False</td>\n",
       "      <td>False</td>\n",
       "      <td>False</td>\n",
       "    </tr>\n",
       "    <tr>\n",
       "      <th>170346</th>\n",
       "      <td>False</td>\n",
       "      <td>False</td>\n",
       "      <td>False</td>\n",
       "      <td>False</td>\n",
       "      <td>False</td>\n",
       "      <td>False</td>\n",
       "      <td>False</td>\n",
       "      <td>False</td>\n",
       "      <td>False</td>\n",
       "      <td>False</td>\n",
       "      <td>False</td>\n",
       "      <td>False</td>\n",
       "      <td>False</td>\n",
       "      <td>False</td>\n",
       "      <td>False</td>\n",
       "      <td>False</td>\n",
       "      <td>False</td>\n",
       "      <td>False</td>\n",
       "      <td>False</td>\n",
       "      <td>False</td>\n",
       "    </tr>\n",
       "    <tr>\n",
       "      <th>170347</th>\n",
       "      <td>False</td>\n",
       "      <td>False</td>\n",
       "      <td>False</td>\n",
       "      <td>False</td>\n",
       "      <td>False</td>\n",
       "      <td>False</td>\n",
       "      <td>False</td>\n",
       "      <td>False</td>\n",
       "      <td>True</td>\n",
       "      <td>False</td>\n",
       "      <td>False</td>\n",
       "      <td>False</td>\n",
       "      <td>False</td>\n",
       "      <td>False</td>\n",
       "      <td>False</td>\n",
       "      <td>False</td>\n",
       "      <td>False</td>\n",
       "      <td>False</td>\n",
       "      <td>False</td>\n",
       "      <td>False</td>\n",
       "    </tr>\n",
       "    <tr>\n",
       "      <th>170348</th>\n",
       "      <td>False</td>\n",
       "      <td>False</td>\n",
       "      <td>False</td>\n",
       "      <td>False</td>\n",
       "      <td>False</td>\n",
       "      <td>False</td>\n",
       "      <td>False</td>\n",
       "      <td>False</td>\n",
       "      <td>False</td>\n",
       "      <td>False</td>\n",
       "      <td>False</td>\n",
       "      <td>False</td>\n",
       "      <td>False</td>\n",
       "      <td>False</td>\n",
       "      <td>False</td>\n",
       "      <td>False</td>\n",
       "      <td>False</td>\n",
       "      <td>False</td>\n",
       "      <td>False</td>\n",
       "      <td>False</td>\n",
       "    </tr>\n",
       "  </tbody>\n",
       "</table>\n",
       "<p>169985 rows × 20 columns</p>\n",
       "</div>"
      ],
      "text/plain": [
       "        c_acousticness  t_artists  c_danceability  c_duration_ms  c_energy  \\\n",
       "0                False      False           False          False     False   \n",
       "1                False      False           False          False     False   \n",
       "2                False      False           False          False     False   \n",
       "3                False      False           False          False     False   \n",
       "4                False      False           False          False     False   \n",
       "...                ...        ...             ...            ...       ...   \n",
       "170344           False      False           False          False     False   \n",
       "170345           False      False           False          False     False   \n",
       "170346           False      False           False          False     False   \n",
       "170347           False      False           False          False     False   \n",
       "170348           False      False           False          False     False   \n",
       "\n",
       "        d_explicit   t_id  c_instrumentalness  d_key  c_liveness  c_loudness  \\\n",
       "0             True  False               False  False       False       False   \n",
       "1             True  False               False   True       False       False   \n",
       "2            False  False               False  False       False       False   \n",
       "3             True  False               False  False       False       False   \n",
       "4             True  False               False  False       False       False   \n",
       "...            ...    ...                 ...    ...         ...         ...   \n",
       "170344       False  False               False  False       False       False   \n",
       "170345       False  False               False  False       False       False   \n",
       "170346       False  False               False  False       False       False   \n",
       "170347       False  False               False   True       False       False   \n",
       "170348       False  False               False  False       False       False   \n",
       "\n",
       "        d_mode  t_name  d_popularity  f_release_date  c_speechiness  c_tempo  \\\n",
       "0        False   False         False           False          False    False   \n",
       "1        False   False         False           False          False    False   \n",
       "2        False   False         False           False          False    False   \n",
       "3        False   False         False           False          False    False   \n",
       "4        False   False         False           False          False    False   \n",
       "...        ...     ...           ...             ...            ...      ...   \n",
       "170344   False   False         False           False          False    False   \n",
       "170345   False   False         False           False          False    False   \n",
       "170346   False   False         False           False          False    False   \n",
       "170347   False   False         False           False          False    False   \n",
       "170348   False   False         False           False          False    False   \n",
       "\n",
       "        c_valence  d_zip Code  t_genero  \n",
       "0           False       False      True  \n",
       "1           False       False      True  \n",
       "2           False       False      True  \n",
       "3           False       False      True  \n",
       "4           False       False      True  \n",
       "...           ...         ...       ...  \n",
       "170344      False       False     False  \n",
       "170345      False       False     False  \n",
       "170346      False       False     False  \n",
       "170347      False       False     False  \n",
       "170348      False       False     False  \n",
       "\n",
       "[169985 rows x 20 columns]"
      ]
     },
     "execution_count": 1753,
     "metadata": {},
     "output_type": "execute_result"
    }
   ],
   "source": [
    "# Veamos los valores que no esten completos\n",
    "\n",
    "df_spoty.isnull()"
   ]
  },
  {
   "cell_type": "code",
   "execution_count": 1754,
   "metadata": {},
   "outputs": [
    {
     "data": {
      "text/html": [
       "<div>\n",
       "<style scoped>\n",
       "    .dataframe tbody tr th:only-of-type {\n",
       "        vertical-align: middle;\n",
       "    }\n",
       "\n",
       "    .dataframe tbody tr th {\n",
       "        vertical-align: top;\n",
       "    }\n",
       "\n",
       "    .dataframe thead th {\n",
       "        text-align: right;\n",
       "    }\n",
       "</style>\n",
       "<table border=\"1\" class=\"dataframe\">\n",
       "  <thead>\n",
       "    <tr style=\"text-align: right;\">\n",
       "      <th></th>\n",
       "      <th>total</th>\n",
       "      <th>completitud</th>\n",
       "    </tr>\n",
       "  </thead>\n",
       "  <tbody>\n",
       "    <tr>\n",
       "      <th>d_explicit</th>\n",
       "      <td>62905</td>\n",
       "      <td>62.993794</td>\n",
       "    </tr>\n",
       "    <tr>\n",
       "      <th>d_key</th>\n",
       "      <td>35759</td>\n",
       "      <td>78.963438</td>\n",
       "    </tr>\n",
       "    <tr>\n",
       "      <th>d_popularity</th>\n",
       "      <td>3501</td>\n",
       "      <td>97.940407</td>\n",
       "    </tr>\n",
       "    <tr>\n",
       "      <th>t_genero</th>\n",
       "      <td>1698</td>\n",
       "      <td>99.001088</td>\n",
       "    </tr>\n",
       "    <tr>\n",
       "      <th>c_valence</th>\n",
       "      <td>0</td>\n",
       "      <td>100.000000</td>\n",
       "    </tr>\n",
       "    <tr>\n",
       "      <th>c_tempo</th>\n",
       "      <td>0</td>\n",
       "      <td>100.000000</td>\n",
       "    </tr>\n",
       "    <tr>\n",
       "      <th>c_speechiness</th>\n",
       "      <td>0</td>\n",
       "      <td>100.000000</td>\n",
       "    </tr>\n",
       "    <tr>\n",
       "      <th>f_release_date</th>\n",
       "      <td>0</td>\n",
       "      <td>100.000000</td>\n",
       "    </tr>\n",
       "    <tr>\n",
       "      <th>t_name</th>\n",
       "      <td>0</td>\n",
       "      <td>100.000000</td>\n",
       "    </tr>\n",
       "    <tr>\n",
       "      <th>d_mode</th>\n",
       "      <td>0</td>\n",
       "      <td>100.000000</td>\n",
       "    </tr>\n",
       "    <tr>\n",
       "      <th>c_acousticness</th>\n",
       "      <td>0</td>\n",
       "      <td>100.000000</td>\n",
       "    </tr>\n",
       "    <tr>\n",
       "      <th>d_zip Code</th>\n",
       "      <td>0</td>\n",
       "      <td>100.000000</td>\n",
       "    </tr>\n",
       "    <tr>\n",
       "      <th>c_instrumentalness</th>\n",
       "      <td>0</td>\n",
       "      <td>100.000000</td>\n",
       "    </tr>\n",
       "    <tr>\n",
       "      <th>t_id</th>\n",
       "      <td>0</td>\n",
       "      <td>100.000000</td>\n",
       "    </tr>\n",
       "    <tr>\n",
       "      <th>c_energy</th>\n",
       "      <td>0</td>\n",
       "      <td>100.000000</td>\n",
       "    </tr>\n",
       "    <tr>\n",
       "      <th>c_duration_ms</th>\n",
       "      <td>0</td>\n",
       "      <td>100.000000</td>\n",
       "    </tr>\n",
       "    <tr>\n",
       "      <th>c_danceability</th>\n",
       "      <td>0</td>\n",
       "      <td>100.000000</td>\n",
       "    </tr>\n",
       "    <tr>\n",
       "      <th>t_artists</th>\n",
       "      <td>0</td>\n",
       "      <td>100.000000</td>\n",
       "    </tr>\n",
       "    <tr>\n",
       "      <th>c_loudness</th>\n",
       "      <td>0</td>\n",
       "      <td>100.000000</td>\n",
       "    </tr>\n",
       "    <tr>\n",
       "      <th>c_liveness</th>\n",
       "      <td>0</td>\n",
       "      <td>100.000000</td>\n",
       "    </tr>\n",
       "  </tbody>\n",
       "</table>\n",
       "</div>"
      ],
      "text/plain": [
       "                    total  completitud\n",
       "d_explicit          62905    62.993794\n",
       "d_key               35759    78.963438\n",
       "d_popularity         3501    97.940407\n",
       "t_genero             1698    99.001088\n",
       "c_valence               0   100.000000\n",
       "c_tempo                 0   100.000000\n",
       "c_speechiness           0   100.000000\n",
       "f_release_date          0   100.000000\n",
       "t_name                  0   100.000000\n",
       "d_mode                  0   100.000000\n",
       "c_acousticness          0   100.000000\n",
       "d_zip Code              0   100.000000\n",
       "c_instrumentalness      0   100.000000\n",
       "t_id                    0   100.000000\n",
       "c_energy                0   100.000000\n",
       "c_duration_ms           0   100.000000\n",
       "c_danceability          0   100.000000\n",
       "t_artists               0   100.000000\n",
       "c_loudness              0   100.000000\n",
       "c_liveness              0   100.000000"
      ]
     },
     "execution_count": 1754,
     "metadata": {},
     "output_type": "execute_result"
    }
   ],
   "source": [
    "\n",
    "completitud_s = pd.DataFrame(df_spoty.isnull().sum())\n",
    "# Cambiamos los nombres de las anteriores tabla 0 el total\n",
    "completitud_s = completitud_s.rename(columns = {'index':'columna',0:'total'})\n",
    "# Calculamos el porcentaje de completitud que representa los datos\n",
    "completitud_s[\"completitud\"] =  (1 - completitud_s['total'] / df_spoty.shape[0]) * 100 \n",
    "# Ordenamos los valores de completitud de orden ascendente\n",
    "completitud_s = completitud_s.sort_values(by = \"completitud\", ascending = True)\n",
    "# Imprimimos\n",
    "completitud_s"
   ]
  },
  {
   "cell_type": "markdown",
   "metadata": {},
   "source": [
    "**d) Eliminar columnas que tengan menos a los mas 20% de datos ausentes**"
   ]
  },
  {
   "cell_type": "code",
   "execution_count": 1755,
   "metadata": {},
   "outputs": [],
   "source": [
    "df_zip.drop(columns = ['d_parent_zcta','c_c_lng'], inplace=True)\n",
    "df_spoty.drop(columns = ['d_explicit', 'd_key'], inplace=True )"
   ]
  },
  {
   "cell_type": "markdown",
   "metadata": {},
   "source": [
    "### Limpieza de valores"
   ]
  },
  {
   "cell_type": "code",
   "execution_count": 1756,
   "metadata": {},
   "outputs": [],
   "source": [
    "import unicodedata\n",
    "import re\n",
    "\n",
    "def clean_text(text, pattern=\"[^a-zA-Z0-9 ]\"):   \n",
    "    cleaned_text = unicodedata.normalize('NFD', text).encode('ascii', 'ignore')\n",
    "    cleaned_text = re.sub(pattern, \" \", cleaned_text.decode(\"utf-8\"), flags=re.UNICODE)\n",
    "    cleaned_text = u' '.join(cleaned_text.lower().strip().split())\n",
    "    return cleaned_text"
   ]
  },
  {
   "cell_type": "code",
   "execution_count": 1757,
   "metadata": {},
   "outputs": [
    {
     "data": {
      "text/plain": [
       "(169985, 18)"
      ]
     },
     "execution_count": 1757,
     "metadata": {},
     "output_type": "execute_result"
    }
   ],
   "source": [
    "# Vemos los datos antes de la limpieza.\n",
    "df_spoty.shape"
   ]
  },
  {
   "cell_type": "markdown",
   "metadata": {},
   "source": [
    "**e) Cantidad de registros en la variable \"zip Code\" no validos**"
   ]
  },
  {
   "cell_type": "code",
   "execution_count": 1758,
   "metadata": {},
   "outputs": [
    {
     "data": {
      "text/plain": [
       "4341"
      ]
     },
     "execution_count": 1758,
     "metadata": {},
     "output_type": "execute_result"
    }
   ],
   "source": [
    "# Usamos una expresión regular para encontrar cualquier valor que contenga letras\n",
    "valores_con_letras = df_spoty['d_zip Code'].str.contains('[a-zA-Z]', na=False)\n",
    "\n",
    "# Contamos cuántos valores tienen letras\n",
    "cantidad_con_letras = valores_con_letras.sum()\n",
    "\n",
    "# Imprimimos\n",
    "cantidad_con_letras"
   ]
  },
  {
   "cell_type": "markdown",
   "metadata": {},
   "source": [
    "**f) Eliminamos registros no validos de la columna \"zip Code\"**"
   ]
  },
  {
   "cell_type": "code",
   "execution_count": 1759,
   "metadata": {},
   "outputs": [
    {
     "data": {
      "text/plain": [
       "(165644, 18)"
      ]
     },
     "execution_count": 1759,
     "metadata": {},
     "output_type": "execute_result"
    }
   ],
   "source": [
    "# Filtramos los valores que NO contienen letras\n",
    "df_spoty = df_spoty[~df_spoty['d_zip Code'].str.contains('[a-zA-Z]', na=False)]\n",
    "\n",
    "# Verificamos la cantidad de registros después de eliminar los valores con letras\n",
    "df_spoty.shape\n"
   ]
  },
  {
   "cell_type": "code",
   "execution_count": 1760,
   "metadata": {},
   "outputs": [
    {
     "data": {
      "text/plain": [
       "24        13126\n",
       "25        14223\n",
       "26        84620\n",
       "27        22824\n",
       "28        27519\n",
       "          ...  \n",
       "168607    45830\n",
       "168608    55814\n",
       "168609    77564\n",
       "168610    15082\n",
       "168611    57472\n",
       "Name: d_zip Code, Length: 165644, dtype: object"
      ]
     },
     "execution_count": 1760,
     "metadata": {},
     "output_type": "execute_result"
    }
   ],
   "source": [
    "df_spoty['d_zip Code']"
   ]
  },
  {
   "cell_type": "markdown",
   "metadata": {},
   "source": [
    "**g) ¿Cuántos de los registros en la variable “genero” son valores no validos?**"
   ]
  },
  {
   "cell_type": "code",
   "execution_count": 1761,
   "metadata": {},
   "outputs": [
    {
     "data": {
      "text/plain": [
       "(165644, 18)"
      ]
     },
     "execution_count": 1761,
     "metadata": {},
     "output_type": "execute_result"
    }
   ],
   "source": [
    "# Analogo con zip Code haremos lo mismo. \n",
    "\n",
    "# Vemos los datos antes de la limpieza.\n",
    "df_spoty.shape"
   ]
  },
  {
   "cell_type": "code",
   "execution_count": 1762,
   "metadata": {},
   "outputs": [
    {
     "data": {
      "text/plain": [
       "1650"
      ]
     },
     "execution_count": 1762,
     "metadata": {},
     "output_type": "execute_result"
    }
   ],
   "source": [
    "# Aseguramos que todos los valores en 't_genero' sean cadenas de texto\n",
    "df_spoty['t_genero'] = df_spoty['t_genero'].astype(str)\n",
    "\n",
    "# Usamos una expresión regular para encontrar cualquier valor que contenga letras\n",
    "valores_con_letras_g = df_spoty['t_genero'].str.contains(r'[a-zA-Z]', na=False)\n",
    "\n",
    "# Contamos cuántos valores contienen letras\n",
    "cantidad_con_letras_g = valores_con_letras_g.sum()\n",
    "\n",
    "cantidad_con_letras_g"
   ]
  },
  {
   "cell_type": "code",
   "execution_count": 1763,
   "metadata": {},
   "outputs": [
    {
     "data": {
      "text/plain": [
       "47.0                      32980\n",
       "20.0                      30270\n",
       "50.0                      24401\n",
       "12.0                      22103\n",
       "16.0                      21910\n",
       "21.0                      21733\n",
       "30.0                       3232\n",
       "49.0                       3193\n",
       "48.0                       3117\n",
       "nan                        1642\n",
       "3.0                         532\n",
       "2.0                         351\n",
       "1.0                         170\n",
       "Хемингуэй                     1\n",
       "Часть 2.3 & Часть 3.1         1\n",
       "6L63VW0PibdM1HDSBoqnoM        1\n",
       "6N6tiFZ9vLTSOIxkj8qKrd        1\n",
       "Polonaise                     1\n",
       "Fantasiestücke                1\n",
       "2Woitschach                   1\n",
       "Cristian                      1\n",
       "Bebamos Juntos                1\n",
       "3. Sure                       1\n",
       "Name: t_genero, dtype: int64"
      ]
     },
     "execution_count": 1763,
     "metadata": {},
     "output_type": "execute_result"
    }
   ],
   "source": [
    "df_spoty['t_genero'].value_counts()"
   ]
  },
  {
   "cell_type": "markdown",
   "metadata": {},
   "source": [
    "**h) Eliminamos registros no validos de la columna \"genero\"**"
   ]
  },
  {
   "cell_type": "code",
   "execution_count": 1764,
   "metadata": {},
   "outputs": [
    {
     "data": {
      "text/plain": [
       "(163994, 18)"
      ]
     },
     "execution_count": 1764,
     "metadata": {},
     "output_type": "execute_result"
    }
   ],
   "source": [
    "# Filtramos los valores que NO contienen letras\n",
    "df_spoty = df_spoty[~df_spoty['t_genero'].str.contains('[a-zA-Z]', na=False)]\n",
    "\n",
    "# Verificamos la cantidad de registros después de eliminar los valores con letras\n",
    "df_spoty.shape"
   ]
  },
  {
   "cell_type": "code",
   "execution_count": 1765,
   "metadata": {},
   "outputs": [
    {
     "data": {
      "text/plain": [
       "31        Часть 2.3 & Часть 3.1\n",
       "1685                  Хемингуэй\n",
       "3927                       47.0\n",
       "3928                       20.0\n",
       "3929                       50.0\n",
       "                  ...          \n",
       "168607                     12.0\n",
       "168608                     16.0\n",
       "168609                     20.0\n",
       "168610                     20.0\n",
       "168611                     12.0\n",
       "Name: t_genero, Length: 163994, dtype: object"
      ]
     },
     "execution_count": 1765,
     "metadata": {},
     "output_type": "execute_result"
    }
   ],
   "source": [
    "df_spoty['t_genero']"
   ]
  },
  {
   "cell_type": "code",
   "execution_count": 1766,
   "metadata": {},
   "outputs": [
    {
     "data": {
      "text/plain": [
       "31        Часть 2.3 & Часть 3.1\n",
       "1685                  Хемингуэй\n",
       "3927                       47.0\n",
       "3928                       20.0\n",
       "3929                       50.0\n",
       "                  ...          \n",
       "168607                     12.0\n",
       "168608                     16.0\n",
       "168609                     20.0\n",
       "168610                     20.0\n",
       "168611                     12.0\n",
       "Name: t_genero, Length: 163994, dtype: object"
      ]
     },
     "execution_count": 1766,
     "metadata": {},
     "output_type": "execute_result"
    }
   ],
   "source": [
    "# Notemos que hay valores NaN, asi que los borraremos con dropna que sirve para eliminar las columnas filas NaN\n",
    "# Eliminar los valores NaN en la columna 't_genero'\n",
    "df_spoty = df_spoty.dropna(subset=['t_genero'])\n",
    "\n",
    "df_spoty['t_genero']"
   ]
  },
  {
   "cell_type": "markdown",
   "metadata": {},
   "source": [
    "**i) Normalizamos la variable \"name\"**"
   ]
  },
  {
   "cell_type": "code",
   "execution_count": 1767,
   "metadata": {},
   "outputs": [
    {
     "data": {
      "text/plain": [
       "Summertime                                           60\n",
       "Home                                                 39\n",
       "Overture                                             39\n",
       "You                                                  33\n",
       "Stay                                                 32\n",
       "                                                     ..\n",
       "Tres Días De Carnaval                                 1\n",
       "Ya No Te Quiero                                       1\n",
       "Evelyn, A Modified Dog                                1\n",
       "Happily Married Man                                   1\n",
       "Symphony No. 1, Op. 9: IV. Con moto (Passacaglia)     1\n",
       "Name: t_name, Length: 128791, dtype: int64"
      ]
     },
     "execution_count": 1767,
     "metadata": {},
     "output_type": "execute_result"
    }
   ],
   "source": [
    "df_spoty['t_name'].value_counts()"
   ]
  },
  {
   "cell_type": "code",
   "execution_count": 1768,
   "metadata": {},
   "outputs": [],
   "source": [
    "df_spoty['t_name'] = df_spoty['t_name'].map(lambda x:clean_text(x))"
   ]
  },
  {
   "cell_type": "code",
   "execution_count": 1769,
   "metadata": {},
   "outputs": [
    {
     "data": {
      "text/plain": [
       "                                              1736\n",
       "summertime                                      61\n",
       "home                                            40\n",
       "overture                                        39\n",
       "stay                                            34\n",
       "                                              ... \n",
       "make love to your mind                           1\n",
       "song of the soul                                 1\n",
       "nighthawk postcards from easy street             1\n",
       "hank and lefty 2003 remaster                     1\n",
       "symphony no 1 op 9 iv con moto passacaglia       1\n",
       "Name: t_name, Length: 122350, dtype: int64"
      ]
     },
     "execution_count": 1769,
     "metadata": {},
     "output_type": "execute_result"
    }
   ],
   "source": [
    "df_spoty['t_name'].value_counts()"
   ]
  },
  {
   "cell_type": "markdown",
   "metadata": {},
   "source": [
    "**j) De la variable “artista” selecciona solo al primer artista que aparezca en la lista \n",
    "además de eliminar caracteres especiales**"
   ]
  },
  {
   "cell_type": "code",
   "execution_count": 1770,
   "metadata": {},
   "outputs": [
    {
     "data": {
      "text/plain": [
       "['Эрнест Хемингуэй']                                                        1168\n",
       "['Francisco Canaro']                                                         938\n",
       "['Эрих Мария Ремарк']                                                        750\n",
       "['Ignacio Corsini']                                                          616\n",
       "['Frank Sinatra']                                                            562\n",
       "                                                                            ... \n",
       "['Neelamma Kadamby']                                                           1\n",
       "['Irving Berlin', 'Eddie Albert', 'Mary McCarty', 'Jay Blackton']              1\n",
       "['Libero Bovio', 'Mario Lanza', 'Franco Ferrara']                              1\n",
       "['Swastika Mukherjee']                                                         1\n",
       "['Kakkia Mendri', 'Lidia Likiardopoulou', '2014 ATHINAIKI DISCOGRAFIKI']       1\n",
       "Name: t_artists, Length: 32804, dtype: int64"
      ]
     },
     "execution_count": 1770,
     "metadata": {},
     "output_type": "execute_result"
    }
   ],
   "source": [
    "# Vemmos como esta antes de la limpieza\n",
    "df_spoty['t_artists'].value_counts()"
   ]
  },
  {
   "cell_type": "code",
   "execution_count": 1771,
   "metadata": {},
   "outputs": [
    {
     "data": {
      "text/plain": [
       "                           3007\n",
       "francisco canaro           2226\n",
       "frederic chopin            1008\n",
       "ludwig van beethoven        894\n",
       "wolfgang amadeus mozart     893\n",
       "                           ... \n",
       "charm city devils             1\n",
       "blue kid                      1\n",
       "pogo                          1\n",
       "riff raff                     1\n",
       "marcelle bordas               1\n",
       "Name: t_artists_clean, Length: 19193, dtype: int64"
      ]
     },
     "execution_count": 1771,
     "metadata": {},
     "output_type": "execute_result"
    }
   ],
   "source": [
    "# Para cada valor x de la columna, se utiliza el metodo split(','), \n",
    "# que divide la cadena en una lista de elementos, usando la coma como delimitador.\n",
    "# [0] selecciona el primer elemento de esa lista, que corresponde al primer artista.\n",
    "\n",
    "df_spoty['t_artists_clean'] = df_spoty['t_artists'].apply(lambda x: clean_text(x.split(',')[0]))\n",
    "\n",
    "# Veamos como queda despues de la limpieza\n",
    "df_spoty['t_artists_clean'].value_counts()"
   ]
  },
  {
   "cell_type": "markdown",
   "metadata": {},
   "source": [
    "**k) Normaliza la variable “genero” de tal forma que obtengas solo 10 categorías**"
   ]
  },
  {
   "cell_type": "code",
   "execution_count": 1772,
   "metadata": {},
   "outputs": [],
   "source": [
    "# Lista de valores que deseas eliminar\n",
    "valores_a_eliminar = ['Часть 2.3 & Часть 3.1', 'Хемингуэй']\n",
    "\n",
    "# Filtrar el DataFrame para que no contenga esas filas\n",
    "df_spoty = df_spoty[~df_spoty['t_genero'].isin(valores_a_eliminar)]"
   ]
  },
  {
   "cell_type": "code",
   "execution_count": 1773,
   "metadata": {},
   "outputs": [
    {
     "data": {
      "text/html": [
       "<div>\n",
       "<style scoped>\n",
       "    .dataframe tbody tr th:only-of-type {\n",
       "        vertical-align: middle;\n",
       "    }\n",
       "\n",
       "    .dataframe tbody tr th {\n",
       "        vertical-align: top;\n",
       "    }\n",
       "\n",
       "    .dataframe thead th {\n",
       "        text-align: right;\n",
       "    }\n",
       "</style>\n",
       "<table border=\"1\" class=\"dataframe\">\n",
       "  <thead>\n",
       "    <tr style=\"text-align: right;\">\n",
       "      <th></th>\n",
       "      <th>genero</th>\n",
       "      <th>total</th>\n",
       "    </tr>\n",
       "  </thead>\n",
       "  <tbody>\n",
       "    <tr>\n",
       "      <th>11</th>\n",
       "      <td>1.0</td>\n",
       "      <td>170</td>\n",
       "    </tr>\n",
       "    <tr>\n",
       "      <th>10</th>\n",
       "      <td>2.0</td>\n",
       "      <td>351</td>\n",
       "    </tr>\n",
       "    <tr>\n",
       "      <th>9</th>\n",
       "      <td>3.0</td>\n",
       "      <td>532</td>\n",
       "    </tr>\n",
       "    <tr>\n",
       "      <th>8</th>\n",
       "      <td>48.0</td>\n",
       "      <td>3117</td>\n",
       "    </tr>\n",
       "    <tr>\n",
       "      <th>7</th>\n",
       "      <td>49.0</td>\n",
       "      <td>3193</td>\n",
       "    </tr>\n",
       "    <tr>\n",
       "      <th>6</th>\n",
       "      <td>30.0</td>\n",
       "      <td>3232</td>\n",
       "    </tr>\n",
       "    <tr>\n",
       "      <th>5</th>\n",
       "      <td>21.0</td>\n",
       "      <td>21733</td>\n",
       "    </tr>\n",
       "    <tr>\n",
       "      <th>4</th>\n",
       "      <td>16.0</td>\n",
       "      <td>21910</td>\n",
       "    </tr>\n",
       "    <tr>\n",
       "      <th>3</th>\n",
       "      <td>12.0</td>\n",
       "      <td>22103</td>\n",
       "    </tr>\n",
       "    <tr>\n",
       "      <th>2</th>\n",
       "      <td>50.0</td>\n",
       "      <td>24401</td>\n",
       "    </tr>\n",
       "    <tr>\n",
       "      <th>1</th>\n",
       "      <td>20.0</td>\n",
       "      <td>30270</td>\n",
       "    </tr>\n",
       "    <tr>\n",
       "      <th>0</th>\n",
       "      <td>47.0</td>\n",
       "      <td>32980</td>\n",
       "    </tr>\n",
       "  </tbody>\n",
       "</table>\n",
       "</div>"
      ],
      "text/plain": [
       "   genero  total\n",
       "11    1.0    170\n",
       "10    2.0    351\n",
       "9     3.0    532\n",
       "8    48.0   3117\n",
       "7    49.0   3193\n",
       "6    30.0   3232\n",
       "5    21.0  21733\n",
       "4    16.0  21910\n",
       "3    12.0  22103\n",
       "2    50.0  24401\n",
       "1    20.0  30270\n",
       "0    47.0  32980"
      ]
     },
     "execution_count": 1773,
     "metadata": {},
     "output_type": "execute_result"
    }
   ],
   "source": [
    "normaliza_g = df_spoty['t_genero'].value_counts().reset_index()\n",
    "\n",
    "normaliza_g = normaliza_g.rename(columns={'index': 'genero', 't_genero': 'total'})\n",
    "\n",
    "normaliza_g = normaliza_g.sort_values(by = \"total\", ascending = True)\n",
    "\n",
    "normaliza_g"
   ]
  },
  {
   "cell_type": "code",
   "execution_count": 1774,
   "metadata": {},
   "outputs": [],
   "source": [
    "df_spoty['t_genero'] = df_spoty['t_genero'].replace({\"1.0\":\"Menor que 3\"})\n",
    "df_spoty['t_genero'] = df_spoty['t_genero'].replace({\"2.0\":\"Menor que 3\"})"
   ]
  },
  {
   "cell_type": "code",
   "execution_count": 1775,
   "metadata": {},
   "outputs": [
    {
     "data": {
      "text/plain": [
       "47.0           32980\n",
       "20.0           30270\n",
       "50.0           24401\n",
       "12.0           22103\n",
       "16.0           21910\n",
       "21.0           21733\n",
       "30.0            3232\n",
       "49.0            3193\n",
       "48.0            3117\n",
       "3.0              532\n",
       "Menor que 3      521\n",
       "Name: t_genero, dtype: int64"
      ]
     },
     "execution_count": 1775,
     "metadata": {},
     "output_type": "execute_result"
    }
   ],
   "source": [
    "df_spoty['t_genero'].value_counts()"
   ]
  },
  {
   "cell_type": "markdown",
   "metadata": {},
   "source": [
    "**l) Añadimos las siguientes columnas a tu table base: zip, lat, lng, city, state_name**"
   ]
  },
  {
   "cell_type": "code",
   "execution_count": 1776,
   "metadata": {},
   "outputs": [
    {
     "data": {
      "text/plain": [
       "Index(['c_acousticness', 't_artists', 'c_danceability', 'c_duration_ms',\n",
       "       'c_energy', 't_id', 'c_instrumentalness', 'c_liveness', 'c_loudness',\n",
       "       'd_mode', 't_name', 'd_popularity', 'f_release_date', 'c_speechiness',\n",
       "       'c_tempo', 'c_valence', 'd_zip Code', 't_genero', 't_artists_clean',\n",
       "       'c_lat', 'c_lng', 't_city', 't_state_name'],\n",
       "      dtype='object')"
      ]
     },
     "execution_count": 1776,
     "metadata": {},
     "output_type": "execute_result"
    }
   ],
   "source": [
    "# Selecciona las columnas correctas de df_zip\n",
    "df_zip_seleccion = df_zip[['d_zip', 'c_lat', 'c_lng', 't_city', 't_state_name']]\n",
    "\n",
    "# Realiza el merge usando las columnas de coincidencia (zip Code en df_spoty y d_zip en df_zip)\n",
    "df_spoty = df_spoty.merge(df_zip_seleccion, left_on='d_zip Code', right_on='d_zip', how='left')\n",
    "\n",
    "# Eliminamos la columna 'd_zip' \n",
    "df_spoty = df_spoty.drop(columns=['d_zip'])\n",
    "\n",
    "# Revisamos las columnas que hay en el df. \n",
    "df_spoty.columns\n",
    "\n"
   ]
  },
  {
   "cell_type": "markdown",
   "metadata": {},
   "source": [
    "**m) Convierte las variables “lat” y “lng” en tipo flotante y valida que la información \n",
    "sea consistente**\n"
   ]
  },
  {
   "cell_type": "code",
   "execution_count": 1777,
   "metadata": {},
   "outputs": [
    {
     "name": "stdout",
     "output_type": "stream",
     "text": [
      "41.67465    18\n",
      "32.98404    16\n",
      "39.98485    16\n",
      "34.56410    16\n",
      "39.97599    16\n",
      "            ..\n",
      "45.08652     1\n",
      "41.55916     1\n",
      "45.05455     1\n",
      "33.42521     1\n",
      "40.58730     1\n",
      "Name: c_lat, Length: 32125, dtype: int64\n",
      "-84.01541     16\n",
      "-89.03123     15\n",
      "-77.04166     15\n",
      "-93.68698     15\n",
      "-111.83123    14\n",
      "              ..\n",
      "-75.17078      1\n",
      "-90.63870      1\n",
      "-74.17961      1\n",
      "-123.06229     1\n",
      "-79.78068      1\n",
      "Name: c_lng, Length: 32323, dtype: int64\n"
     ]
    }
   ],
   "source": [
    "print(df_spoty['c_lat'].value_counts())\n",
    "\n",
    "print(df_spoty['c_lng'].value_counts())"
   ]
  },
  {
   "cell_type": "code",
   "execution_count": 1778,
   "metadata": {},
   "outputs": [],
   "source": [
    "# Convertimos de tipo flotante. \n",
    "\n",
    "df_spoty['c_lat'] = df_spoty['c_lat'].astype(float)\n",
    "df_spoty['c_lng'] = df_spoty['c_lng'].astype(float)"
   ]
  },
  {
   "cell_type": "markdown",
   "metadata": {},
   "source": [
    "Notemos que lat y lng se trata de la latitud y la longitud, para que sea informacion consistente debemos considerar que la informaicion \n",
    "* Latitud debe estar en el rango de -90 a 90 grados.\n",
    "* Longitud debe estar en el rango de -180 a 180 grados. Si encuentras valores fuera de estos rangos, podrían ser erróneos o necesitar corrección.\n",
    "* 2 decimales: precisión de alrededor de 1 km.\n",
    "* 6 decimales: precisión de alrededor de 10 cm.\n"
   ]
  },
  {
   "cell_type": "code",
   "execution_count": 1779,
   "metadata": {},
   "outputs": [
    {
     "name": "stdout",
     "output_type": "stream",
     "text": [
      "Coordenadas con latitud fuera de rango: 0\n",
      "Coordenadas con longitud fuera de rango: 124\n"
     ]
    }
   ],
   "source": [
    "# Buscamos los registros que no esten en el rango de lo que seria consistente tanto para longitud como para latitud.\n",
    "invalid_lat = df_spoty[(df_spoty['c_lat'] < -90) | (df_spoty['c_lat'] > 90)]\n",
    "invalid_lng = df_spoty[(df_spoty['c_lng'] < -180) | (df_spoty['c_lng'] > 180)]\n",
    "\n",
    "print(f\"Coordenadas con latitud fuera de rango: {len(invalid_lat)}\")\n",
    "print(f\"Coordenadas con longitud fuera de rango: {len(invalid_lng)}\")"
   ]
  },
  {
   "cell_type": "code",
   "execution_count": 1780,
   "metadata": {},
   "outputs": [],
   "source": [
    "df_spoty = df_spoty[(df_spoty['c_lat'] >= -90) & (df_spoty['c_lat'] <= 90) & (df_spoty['c_lng'] >= -180) & (df_spoty['c_lng'] <= 180)]"
   ]
  },
  {
   "cell_type": "code",
   "execution_count": 1781,
   "metadata": {},
   "outputs": [
    {
     "name": "stdout",
     "output_type": "stream",
     "text": [
      "Coordenadas con latitud fuera de rango: 0\n",
      "Coordenadas con longitud fuera de rango: 0\n"
     ]
    }
   ],
   "source": [
    "# Recalculamos los registros inválidos después del filtrado\n",
    "invalid_lat = df_spoty[(df_spoty['c_lat'] < -90) | (df_spoty['c_lat'] > 90)]\n",
    "invalid_lng = df_spoty[(df_spoty['c_lng'] < -180) | (df_spoty['c_lng'] > 180)]\n",
    "\n",
    "# Revisamos nuevamente\n",
    "print(f\"Coordenadas con latitud fuera de rango: {len(invalid_lat)}\")\n",
    "print(f\"Coordenadas con longitud fuera de rango: {len(invalid_lng)}\")"
   ]
  },
  {
   "cell_type": "markdown",
   "metadata": {},
   "source": [
    "**n) Eliminar digitos de las variable “city” y “state”**"
   ]
  },
  {
   "cell_type": "code",
   "execution_count": 1782,
   "metadata": {},
   "outputs": [
    {
     "name": "stdout",
     "output_type": "stream",
     "text": [
      "Dah974lonega       16\n",
      "Pauld58ing         15\n",
      "Miam197i           14\n",
      "Chan229dler        14\n",
      "Byro693n           14\n",
      "                   ..\n",
      "Philad744elphia     1\n",
      "334Millston         1\n",
      "Lilliwa43up         1\n",
      "Sta25ten Island     1\n",
      "Creigh946ton        1\n",
      "Name: t_city, Length: 32424, dtype: int64\n",
      "Il500linois        22\n",
      "Ill783inois        20\n",
      "Tex601as           19\n",
      "M801ichigan        18\n",
      "I12owa             18\n",
      "                   ..\n",
      "Missou241ri         1\n",
      "Mi899nnesota        1\n",
      "Texa636s            1\n",
      "Ok308lahoma         1\n",
      "212Pennsylvania     1\n",
      "Name: t_state_name, Length: 30582, dtype: int64\n"
     ]
    }
   ],
   "source": [
    "# Vemos como estan los valores\n",
    "print(df_spoty['t_city'].value_counts())\n",
    "print(df_spoty['t_state_name'].value_counts())"
   ]
  },
  {
   "cell_type": "code",
   "execution_count": 1783,
   "metadata": {},
   "outputs": [],
   "source": [
    "# Modificamos la funcion clean_text para que solo elimine numeros.\n",
    "def clean_text_digit(text, pattern=\"[^a-zA-Z ]\"):   \n",
    "    # Eliminamos los números y otros caracteres no deseados\n",
    "    cleaned_text = re.sub(pattern, \" \", text)\n",
    "    # Eliminar espacios múltiples y recortar los espacios\n",
    "    cleaned_text = ' '.join(cleaned_text.split())\n",
    "    return cleaned_text"
   ]
  },
  {
   "cell_type": "code",
   "execution_count": 1784,
   "metadata": {},
   "outputs": [],
   "source": [
    "# Aplicamos la funcion\n",
    "df_spoty['t_city'] = df_spoty['t_city'].map(lambda x:clean_text_digit(x))\n",
    "df_spoty['t_state_name'] = df_spoty['t_state_name'].map(lambda x:clean_text_digit(x))"
   ]
  },
  {
   "cell_type": "code",
   "execution_count": 1785,
   "metadata": {},
   "outputs": [
    {
     "name": "stdout",
     "output_type": "stream",
     "text": [
      "New York             103\n",
      "Kansas City           92\n",
      "Ho uston              74\n",
      "Mia mi                74\n",
      "Los Angeles           71\n",
      "                    ... \n",
      "M arshall              1\n",
      "Frankli n Springs      1\n",
      "Ja mul                 1\n",
      "Clariss a              1\n",
      "Creigh ton             1\n",
      "Name: t_city, Length: 25462, dtype: int64\n",
      "New York                 2602\n",
      "Texas                    1621\n",
      "T exas                   1585\n",
      "Tex as                   1550\n",
      "Texa s                   1417\n",
      "                         ... \n",
      "Di strict of Columbia       6\n",
      "Distric t of Columbia       6\n",
      "Dis trict of Columbia       5\n",
      "District of Columbi a       3\n",
      "D istrict of Columbia       2\n",
      "Name: t_state_name, Length: 426, dtype: int64\n"
     ]
    }
   ],
   "source": [
    "# Vemos como estan ahora\n",
    "print(df_spoty['t_city'].value_counts())\n",
    "print(df_spoty['t_state_name'].value_counts())"
   ]
  },
  {
   "cell_type": "markdown",
   "metadata": {},
   "source": [
    "**o) Crea una nueva variable llamada “state” que este conformada por “city”,”state_name”**"
   ]
  },
  {
   "cell_type": "code",
   "execution_count": 1786,
   "metadata": {},
   "outputs": [
    {
     "name": "stdout",
     "output_type": "stream",
     "text": [
      "             t_city t_state_name                  t_state\n",
      "28841       Dras co    Arka nsas       Dras co, Arka nsas\n",
      "28842  Ballston Spa    New Yor k  Ballston Spa, New Yor k\n",
      "28843        Star t   Louis iana       Star t, Louis iana\n",
      "28844        R olfe        I owa            R olfe, I owa\n",
      "28845      Al berta   Minnesot a     Al berta, Minnesot a\n"
     ]
    }
   ],
   "source": [
    "# Creamos la nueva columna 'state' combinando 't_city' y 't_state_name'\n",
    "df_spoty['t_state'] = df_spoty['t_city'] + \", \" + df_spoty['t_state_name']\n",
    "\n",
    "# Verificar el resultado\n",
    "print(df_spoty[['t_city', 't_state_name', 't_state']].head())\n"
   ]
  },
  {
   "cell_type": "markdown",
   "metadata": {},
   "source": [
    "**p) Los valores de la nueva variable “state” modificalos de cierta forma que todas sean minúsculas y sin acentos**"
   ]
  },
  {
   "cell_type": "code",
   "execution_count": 1787,
   "metadata": {},
   "outputs": [
    {
     "name": "stdout",
     "output_type": "stream",
     "text": [
      "28841         dras co arka nsas\n",
      "28842    ballston spa new yor k\n",
      "28843         star t louis iana\n",
      "28844              r olfe i owa\n",
      "28845       al berta minnesot a\n",
      "Name: t_state, dtype: object\n"
     ]
    }
   ],
   "source": [
    "# Aplicamos la funcion para la limpieza de datos\n",
    "df_spoty['t_state'] = df_spoty['t_state'].map(lambda x:clean_text(x))\n",
    "\n",
    "# Verificar el resultado\n",
    "print(df_spoty['t_state'].head())"
   ]
  },
  {
   "cell_type": "markdown",
   "metadata": {},
   "source": [
    "**q) Convierte los valores en la variable “release_date” a tipo datetime, además haz el \n",
    "conteo de las que no tienen la estructura necesaria para ser convertidda en datetime \n",
    "y elimina ese registro**"
   ]
  },
  {
   "cell_type": "code",
   "execution_count": 1788,
   "metadata": {},
   "outputs": [
    {
     "data": {
      "text/plain": [
       "1963-08-14 00:00:00    16\n",
       "2002-05-09 00:00:00    16\n",
       "1966-11-18 00:00:00    15\n",
       "2006-04-20 00:00:00    15\n",
       "1978-03-05 00:00:00    15\n",
       "                       ..\n",
       "1924-01-16 00:00:00     1\n",
       "1934-04-25 00:00:00     1\n",
       "1934-04-10 00:00:00     1\n",
       "1934-10-21 00:00:00     1\n",
       "1922-06-26 00:00:00     1\n",
       "Name: f_release_date, Length: 28231, dtype: int64"
      ]
     },
     "execution_count": 1788,
     "metadata": {},
     "output_type": "execute_result"
    }
   ],
   "source": [
    "# Vemos como estan los valores\n",
    "df_spoty['f_release_date'].value_counts()"
   ]
  },
  {
   "cell_type": "code",
   "execution_count": 1789,
   "metadata": {},
   "outputs": [],
   "source": [
    "# Cambiamos el tipo de dato\n",
    "df_spoty['f_release_date'] = pd.to_datetime(df_spoty['f_release_date'])"
   ]
  },
  {
   "cell_type": "code",
   "execution_count": 1790,
   "metadata": {},
   "outputs": [],
   "source": [
    "df_spoty['f_release_date'].value_counts()"
   ]
  },
  {
   "cell_type": "markdown",
   "metadata": {},
   "source": [
    "# Parte 2"
   ]
  },
  {
   "cell_type": "markdown",
   "metadata": {},
   "source": [
    "**a) Obten un DataFrame donde se muestre el conteo de registros por género**"
   ]
  },
  {
   "cell_type": "code",
   "execution_count": 1794,
   "metadata": {},
   "outputs": [
    {
     "name": "stdout",
     "output_type": "stream",
     "text": [
      "         Genero  Conteo\n",
      "0          47.0   26347\n",
      "1          20.0   24127\n",
      "2          50.0   19522\n",
      "3          12.0   17757\n",
      "4          16.0   17501\n",
      "5          21.0   17242\n",
      "6          30.0    2566\n",
      "7          49.0    2556\n",
      "8          48.0    2478\n",
      "9           3.0     433\n",
      "10  Menor que 3     419\n"
     ]
    }
   ],
   "source": [
    "# Obtener el conteo de registros por género\n",
    "conteo_genero = df_spoty['t_genero'].value_counts().reset_index()\n",
    "\n",
    "# Renombrar las columnas para mayor claridad\n",
    "conteo_genero.columns = ['Genero', 'Conteo']\n",
    "\n",
    "# Ver el DataFrame resultante\n",
    "conteo_genero\n"
   ]
  },
  {
   "cell_type": "markdown",
   "metadata": {},
   "source": [
    "**b) Genera una nueva variable que se llame “duration_minutos” que sea el valor de la \n",
    "variable “duration_ms” en minutos**"
   ]
  },
  {
   "cell_type": "code",
   "execution_count": 1796,
   "metadata": {},
   "outputs": [
    {
     "data": {
      "text/html": [
       "<div>\n",
       "<style scoped>\n",
       "    .dataframe tbody tr th:only-of-type {\n",
       "        vertical-align: middle;\n",
       "    }\n",
       "\n",
       "    .dataframe tbody tr th {\n",
       "        vertical-align: top;\n",
       "    }\n",
       "\n",
       "    .dataframe thead th {\n",
       "        text-align: right;\n",
       "    }\n",
       "</style>\n",
       "<table border=\"1\" class=\"dataframe\">\n",
       "  <thead>\n",
       "    <tr style=\"text-align: right;\">\n",
       "      <th></th>\n",
       "      <th>c_duration_ms</th>\n",
       "      <th>duration_minutos</th>\n",
       "    </tr>\n",
       "  </thead>\n",
       "  <tbody>\n",
       "    <tr>\n",
       "      <th>28841</th>\n",
       "      <td>150640</td>\n",
       "      <td>2.510667</td>\n",
       "    </tr>\n",
       "    <tr>\n",
       "      <th>28842</th>\n",
       "      <td>316893</td>\n",
       "      <td>5.281550</td>\n",
       "    </tr>\n",
       "    <tr>\n",
       "      <th>28843</th>\n",
       "      <td>165253</td>\n",
       "      <td>2.754217</td>\n",
       "    </tr>\n",
       "    <tr>\n",
       "      <th>28844</th>\n",
       "      <td>162933</td>\n",
       "      <td>2.715550</td>\n",
       "    </tr>\n",
       "    <tr>\n",
       "      <th>28845</th>\n",
       "      <td>195200</td>\n",
       "      <td>3.253333</td>\n",
       "    </tr>\n",
       "  </tbody>\n",
       "</table>\n",
       "</div>"
      ],
      "text/plain": [
       "       c_duration_ms  duration_minutos\n",
       "28841         150640          2.510667\n",
       "28842         316893          5.281550\n",
       "28843         165253          2.754217\n",
       "28844         162933          2.715550\n",
       "28845         195200          3.253333"
      ]
     },
     "execution_count": 1796,
     "metadata": {},
     "output_type": "execute_result"
    }
   ],
   "source": [
    "# Creamos la nueva columna 'duration_minutos' a partir de 'c_duration_ms'\n",
    "df_spoty['duration_minutos'] = df_spoty['c_duration_ms'] / 60000\n",
    "\n",
    "# Verificar el resultado\n",
    "df_spoty[['c_duration_ms', 'duration_minutos']].head()\n"
   ]
  },
  {
   "cell_type": "markdown",
   "metadata": {},
   "source": [
    "**c) ¿Cuáles son las 10 canciones más populares?**"
   ]
  },
  {
   "cell_type": "code",
   "execution_count": 1797,
   "metadata": {},
   "outputs": [
    {
     "name": "stdout",
     "output_type": "stream",
     "text": [
      "                                                t_name  d_popularity\n",
      "82520                                  blinding lights         100.0\n",
      "82518                        rockstar feat roddy ricch          99.0\n",
      "82527  death bed coffee for your head feat beabadoobee          97.0\n",
      "82519                                       the scotts          96.0\n",
      "82524                                     toosie slide          95.0\n",
      "82431                  ily i love you baby feat emilee          95.0\n",
      "82423                                       supalonely          95.0\n",
      "82419                                          the box          95.0\n",
      "82437                                     dance monkey          94.0\n",
      "82530                    rain on me with ariana grande          94.0\n"
     ]
    }
   ],
   "source": [
    "# Ordenar el DataFrame por la columna 'd_popularity' en orden descendente\n",
    "top_10_canciones = df_spoty[['t_name', 'd_popularity']].sort_values(by='d_popularity', ascending=False).head(10)\n",
    "\n",
    "# Ver el resultado\n",
    "print(top_10_canciones)\n"
   ]
  },
  {
   "cell_type": "markdown",
   "metadata": {},
   "source": [
    "**d) ¿Cuál es el promedio de duración en minutos y milisegundos?**"
   ]
  },
  {
   "cell_type": "code",
   "execution_count": 1799,
   "metadata": {},
   "outputs": [
    {
     "name": "stdout",
     "output_type": "stream",
     "text": [
      "Promedio de duración en milisegundos: 230442.79517823868\n",
      "Promedio de duración en minutos: 3.840713252970645\n"
     ]
    }
   ],
   "source": [
    "# Calcular el promedio de duración en milisegundos\n",
    "promedio_ms = df_spoty['c_duration_ms'].mean()\n",
    "\n",
    "# Calcular el promedio de duración en minutos\n",
    "promedio_minutos = df_spoty['duration_minutos'].mean()\n",
    "\n",
    "# Mostrar los resultados\n",
    "print(f\"Promedio de duración en milisegundos: {promedio_ms}\")\n",
    "print(f\"Promedio de duración en minutos: {promedio_minutos}\")\n"
   ]
  },
  {
   "cell_type": "markdown",
   "metadata": {},
   "source": [
    "**e) ¿Cuál es el promedio y conteo de “energy” por “genero”?**"
   ]
  },
  {
   "cell_type": "code",
   "execution_count": 1801,
   "metadata": {},
   "outputs": [
    {
     "data": {
      "text/html": [
       "<div>\n",
       "<style scoped>\n",
       "    .dataframe tbody tr th:only-of-type {\n",
       "        vertical-align: middle;\n",
       "    }\n",
       "\n",
       "    .dataframe tbody tr th {\n",
       "        vertical-align: top;\n",
       "    }\n",
       "\n",
       "    .dataframe thead th {\n",
       "        text-align: right;\n",
       "    }\n",
       "</style>\n",
       "<table border=\"1\" class=\"dataframe\">\n",
       "  <thead>\n",
       "    <tr style=\"text-align: right;\">\n",
       "      <th></th>\n",
       "      <th>t_genero</th>\n",
       "      <th>promedio_energia</th>\n",
       "      <th>conteo</th>\n",
       "    </tr>\n",
       "  </thead>\n",
       "  <tbody>\n",
       "    <tr>\n",
       "      <th>0</th>\n",
       "      <td>12.0</td>\n",
       "      <td>0.487448</td>\n",
       "      <td>17757</td>\n",
       "    </tr>\n",
       "    <tr>\n",
       "      <th>1</th>\n",
       "      <td>16.0</td>\n",
       "      <td>0.481450</td>\n",
       "      <td>17501</td>\n",
       "    </tr>\n",
       "    <tr>\n",
       "      <th>2</th>\n",
       "      <td>20.0</td>\n",
       "      <td>0.484056</td>\n",
       "      <td>24127</td>\n",
       "    </tr>\n",
       "    <tr>\n",
       "      <th>3</th>\n",
       "      <td>21.0</td>\n",
       "      <td>0.484000</td>\n",
       "      <td>17242</td>\n",
       "    </tr>\n",
       "    <tr>\n",
       "      <th>4</th>\n",
       "      <td>3.0</td>\n",
       "      <td>0.475747</td>\n",
       "      <td>433</td>\n",
       "    </tr>\n",
       "    <tr>\n",
       "      <th>5</th>\n",
       "      <td>30.0</td>\n",
       "      <td>0.483483</td>\n",
       "      <td>2566</td>\n",
       "    </tr>\n",
       "    <tr>\n",
       "      <th>6</th>\n",
       "      <td>47.0</td>\n",
       "      <td>0.486938</td>\n",
       "      <td>26347</td>\n",
       "    </tr>\n",
       "    <tr>\n",
       "      <th>7</th>\n",
       "      <td>48.0</td>\n",
       "      <td>0.487285</td>\n",
       "      <td>2478</td>\n",
       "    </tr>\n",
       "    <tr>\n",
       "      <th>8</th>\n",
       "      <td>49.0</td>\n",
       "      <td>0.482688</td>\n",
       "      <td>2556</td>\n",
       "    </tr>\n",
       "    <tr>\n",
       "      <th>9</th>\n",
       "      <td>50.0</td>\n",
       "      <td>0.487861</td>\n",
       "      <td>19522</td>\n",
       "    </tr>\n",
       "    <tr>\n",
       "      <th>10</th>\n",
       "      <td>Menor que 3</td>\n",
       "      <td>0.474405</td>\n",
       "      <td>419</td>\n",
       "    </tr>\n",
       "  </tbody>\n",
       "</table>\n",
       "</div>"
      ],
      "text/plain": [
       "       t_genero  promedio_energia  conteo\n",
       "0          12.0          0.487448   17757\n",
       "1          16.0          0.481450   17501\n",
       "2          20.0          0.484056   24127\n",
       "3          21.0          0.484000   17242\n",
       "4           3.0          0.475747     433\n",
       "5          30.0          0.483483    2566\n",
       "6          47.0          0.486938   26347\n",
       "7          48.0          0.487285    2478\n",
       "8          49.0          0.482688    2556\n",
       "9          50.0          0.487861   19522\n",
       "10  Menor que 3          0.474405     419"
      ]
     },
     "execution_count": 1801,
     "metadata": {},
     "output_type": "execute_result"
    }
   ],
   "source": [
    "# Agrupar por 't_genero' y calcular el promedio y conteo de 'c_energy'\n",
    "energia_por_genero = df_spoty.groupby('t_genero').agg(\n",
    "    promedio_energia=('c_energy', 'mean'),\n",
    "    conteo=('c_energy', 'count')\n",
    ").reset_index()\n",
    "\n",
    "# Mostrar el resultado\n",
    "energia_por_genero\n"
   ]
  },
  {
   "cell_type": "markdown",
   "metadata": {},
   "source": [
    "**f) ¿Qué canción tiene el “loudness” más bajo y cuál es la canción que tiene el “loudness” \n",
    "más alto?**"
   ]
  },
  {
   "cell_type": "code",
   "execution_count": 1802,
   "metadata": {},
   "outputs": [
    {
     "name": "stdout",
     "output_type": "stream",
     "text": [
      "Canción con el loudness más bajo:\n",
      "                                     t_name  c_loudness\n",
      "37053                          hava nagilah       -60.0\n",
      "43568                           pause track       -60.0\n",
      "55948                          silent track       -60.0\n",
      "56830                          silent track       -60.0\n",
      "59419                     my yiddishe momme       -60.0\n",
      "93538                      pause track live       -60.0\n",
      "102827                     pause track live       -60.0\n",
      "131289  staggerlee has his day at the beach       -60.0\n",
      "139854                          pause track       -60.0\n",
      "\n",
      "Canción con el loudness más alto:\n",
      "       t_name  c_loudness\n",
      "102626   sold       3.855\n"
     ]
    }
   ],
   "source": [
    "# Encontrar el valor más bajo de 'c_loudness' y la canción correspondiente\n",
    "cancion_loudness_min = df_spoty[df_spoty['c_loudness'] == df_spoty['c_loudness'].min()]\n",
    "\n",
    "# Encontrar el valor más alto de 'c_loudness' y la canción correspondiente\n",
    "cancion_loudness_max = df_spoty[df_spoty['c_loudness'] == df_spoty['c_loudness'].max()]\n",
    "\n",
    "# Mostrar las canciones con el loudness más bajo y más alto\n",
    "print(\"Canción con el loudness más bajo:\")\n",
    "print(cancion_loudness_min[['t_name', 'c_loudness']])\n",
    "\n",
    "print(\"\\nCanción con el loudness más alto:\")\n",
    "print(cancion_loudness_max[['t_name', 'c_loudness']])\n"
   ]
  },
  {
   "cell_type": "markdown",
   "metadata": {},
   "source": [
    "**[Extra]Obtenga los 10 percentiles de las variables continuas**"
   ]
  },
  {
   "cell_type": "code",
   "execution_count": 1803,
   "metadata": {},
   "outputs": [
    {
     "name": "stdout",
     "output_type": "stream",
     "text": [
      "     c_acousticness  c_danceability  c_duration_ms  c_energy  \\\n",
      "0.0         0.00000           0.000         5108.0     0.000   \n",
      "0.1         0.00956           0.301       137609.1     0.130   \n",
      "0.2         0.05590           0.386       162107.0     0.219   \n",
      "0.3         0.15300           0.449       178333.0     0.301   \n",
      "0.4         0.30500           0.502       192418.0     0.387   \n",
      "0.5         0.50400           0.550       207440.0     0.476   \n",
      "0.6         0.69600           0.596       226240.0     0.564   \n",
      "0.7         0.83700           0.643       248600.0     0.659   \n",
      "0.8         0.93600           0.696       278800.0     0.754   \n",
      "0.9         0.98400           0.760       334200.0     0.864   \n",
      "1.0         0.99600           0.988      4270034.0     1.000   \n",
      "\n",
      "     c_instrumentalness  c_liveness  c_loudness  d_mode  d_popularity  \\\n",
      "0.0            0.000000      0.0000    -60.0000     0.0           0.0   \n",
      "0.1            0.000000      0.0728    -18.9270     0.0           0.0   \n",
      "0.2            0.000000      0.0912    -15.6520     0.0           5.0   \n",
      "0.3            0.000002      0.1050    -13.5560     1.0          19.0   \n",
      "0.4            0.000021      0.1160    -11.9720     1.0          27.0   \n",
      "0.5            0.000199      0.1350    -10.5340     1.0          34.0   \n",
      "0.6            0.002040      0.1670     -9.1870     1.0          40.0   \n",
      "0.7            0.024000      0.2220     -7.8420     1.0          46.0   \n",
      "0.8            0.290000      0.3040     -6.4980     1.0          52.0   \n",
      "0.9            0.832000      0.4060     -5.0447     1.0          61.0   \n",
      "1.0            1.000000      1.0000      3.8550     1.0         100.0   \n",
      "\n",
      "     c_speechiness   c_tempo  c_valence      c_lat       c_lng  \\\n",
      "0.0         0.0000    0.0000      0.000  17.966120 -176.631390   \n",
      "0.1         0.0301   79.5114      0.163  32.090690 -115.348750   \n",
      "0.2         0.0334   89.1444      0.275  34.337010  -99.619992   \n",
      "0.3         0.0366   97.3380      0.371  36.432830  -95.591830   \n",
      "0.4         0.0403  106.0030      0.465  38.164590  -91.893560   \n",
      "0.5         0.0450  114.7530      0.548  39.505190  -88.191810   \n",
      "0.6         0.0521  122.5740      0.630  40.604520  -84.579070   \n",
      "0.7         0.0646  130.5310      0.711  41.573520  -81.650570   \n",
      "0.8         0.0924  140.9710      0.795  42.763250  -78.295070   \n",
      "0.9         0.1900  161.8340      0.888  44.723016  -74.594860   \n",
      "1.0         0.9690  243.5070      1.000  71.273740  -65.290170   \n",
      "\n",
      "     duration_minutos  \n",
      "0.0          0.085133  \n",
      "0.1          2.293485  \n",
      "0.2          2.701783  \n",
      "0.3          2.972217  \n",
      "0.4          3.206967  \n",
      "0.5          3.457333  \n",
      "0.6          3.770667  \n",
      "0.7          4.143333  \n",
      "0.8          4.646667  \n",
      "0.9          5.570000  \n",
      "1.0         71.167233  \n"
     ]
    }
   ],
   "source": [
    "# Seleccionar solo las columnas continuas (numéricas)\n",
    "variables_continuas = df_spoty.select_dtypes(include=['float64', 'int64'])\n",
    "\n",
    "# Definir los percentiles que queremos calcular (10 percentiles: del 0% al 100%)\n",
    "percentiles = [i/10 for i in range(11)]  # [0.0, 0.1, 0.2, ..., 1.0]\n",
    "\n",
    "# Calcular los percentiles para cada variable continua\n",
    "percentiles_df = variables_continuas.quantile(percentiles)\n",
    "\n",
    "# Mostrar el resultado\n",
    "print(percentiles_df)\n"
   ]
  }
 ],
 "metadata": {
  "kernelspec": {
   "display_name": "Python 3",
   "language": "python",
   "name": "python3"
  },
  "language_info": {
   "codemirror_mode": {
    "name": "ipython",
    "version": 3
   },
   "file_extension": ".py",
   "mimetype": "text/x-python",
   "name": "python",
   "nbconvert_exporter": "python",
   "pygments_lexer": "ipython3",
   "version": "3.11.2"
  }
 },
 "nbformat": 4,
 "nbformat_minor": 2
}
